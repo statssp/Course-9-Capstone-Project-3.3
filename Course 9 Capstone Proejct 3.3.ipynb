{
    "cells": [
        {
            "metadata": {
                "collapsed": true
            },
            "cell_type": "markdown",
            "source": "Write some markdown to explain that this notebook will be mainly used for the capstone project.\nImport the pandas library as pd.\nImport the Numpy library as np.\nPrint the following the statement: Hello Capstone Project Course!"
        },
        {
            "metadata": {},
            "cell_type": "markdown",
            "source": "------------------------\nThis is the Markdown part\n------------------------\n"
        },
        {
            "metadata": {},
            "cell_type": "code",
            "source": "#url='https://en.wikipedia.org/wiki/List_of_postal_codes_of_Canada:_M'\n\n#from bs4 import BeautifulSoup\n#import requests\n\n#r=requests.get(url)\n#content=r.content\n#soup=BeautifulSoup(content,\"html.parser\")",
            "execution_count": 3,
            "outputs": []
        },
        {
            "metadata": {
                "scrolled": false
            },
            "cell_type": "code",
            "source": "#print(soup)",
            "execution_count": null,
            "outputs": []
        },
        {
            "metadata": {
                "scrolled": false
            },
            "cell_type": "code",
            "source": "#wikitable=soup.find('table',class_='wikitable sortable')\n#print(wikitable)\n#now the information is stored in wikitable",
            "execution_count": null,
            "outputs": []
        },
        {
            "metadata": {},
            "cell_type": "code",
            "source": "#from pandas.io.json import json_normalize\n\n#df = json_normalize(wikitable)",
            "execution_count": 9,
            "outputs": []
        },
        {
            "metadata": {},
            "cell_type": "code",
            "source": "",
            "execution_count": null,
            "outputs": []
        },
        {
            "metadata": {},
            "cell_type": "code",
            "source": "!pip install lxml\nimport pandas as pd # library for data analsysis\n\nurl='https://en.wikipedia.org/wiki/List_of_postal_codes_of_Canada:_M'\ndfs = pd.read_html(url)[0]\n#dfs is a dataframe object",
            "execution_count": 2,
            "outputs": [
                {
                    "output_type": "stream",
                    "text": "Requirement already satisfied: lxml in /opt/conda/envs/Python-3.7-main/lib/python3.7/site-packages (4.5.1)\r\n",
                    "name": "stdout"
                }
            ]
        },
        {
            "metadata": {},
            "cell_type": "code",
            "source": "dfs.head()",
            "execution_count": 74,
            "outputs": [
                {
                    "output_type": "execute_result",
                    "execution_count": 74,
                    "data": {
                        "text/plain": "  Postal Code           Borough              Neighbourhood\n0         M1A      Not assigned               Not assigned\n1         M2A      Not assigned               Not assigned\n2         M3A        North York                  Parkwoods\n3         M4A        North York           Victoria Village\n4         M5A  Downtown Toronto  Regent Park, Harbourfront",
                        "text/html": "<div>\n<style scoped>\n    .dataframe tbody tr th:only-of-type {\n        vertical-align: middle;\n    }\n\n    .dataframe tbody tr th {\n        vertical-align: top;\n    }\n\n    .dataframe thead th {\n        text-align: right;\n    }\n</style>\n<table border=\"1\" class=\"dataframe\">\n  <thead>\n    <tr style=\"text-align: right;\">\n      <th></th>\n      <th>Postal Code</th>\n      <th>Borough</th>\n      <th>Neighbourhood</th>\n    </tr>\n  </thead>\n  <tbody>\n    <tr>\n      <th>0</th>\n      <td>M1A</td>\n      <td>Not assigned</td>\n      <td>Not assigned</td>\n    </tr>\n    <tr>\n      <th>1</th>\n      <td>M2A</td>\n      <td>Not assigned</td>\n      <td>Not assigned</td>\n    </tr>\n    <tr>\n      <th>2</th>\n      <td>M3A</td>\n      <td>North York</td>\n      <td>Parkwoods</td>\n    </tr>\n    <tr>\n      <th>3</th>\n      <td>M4A</td>\n      <td>North York</td>\n      <td>Victoria Village</td>\n    </tr>\n    <tr>\n      <th>4</th>\n      <td>M5A</td>\n      <td>Downtown Toronto</td>\n      <td>Regent Park, Harbourfront</td>\n    </tr>\n  </tbody>\n</table>\n</div>"
                    },
                    "metadata": {}
                }
            ]
        },
        {
            "metadata": {
                "scrolled": true
            },
            "cell_type": "code",
            "source": "df=dfs[dfs.Borough!=\"Not assigned\"]\ndf=df.reset_index(drop=True)\ndf.head(5)",
            "execution_count": 99,
            "outputs": [
                {
                    "output_type": "execute_result",
                    "execution_count": 99,
                    "data": {
                        "text/plain": "(103, 3)"
                    },
                    "metadata": {}
                }
            ]
        },
        {
            "metadata": {},
            "cell_type": "code",
            "source": "for i in range(3):\n    value=df.iloc[i][\"Neighbourhood\"]\n    if value==\"Not assigned\":\n        df.iloc[i][\"Neighbourhood\"]=df.iloc[i][\"Borough\"]\n        print(\"find a NOT ASSIGNED\")\n    \ndf.head(5)",
            "execution_count": null,
            "outputs": []
        },
        {
            "metadata": {},
            "cell_type": "code",
            "source": "df.shape",
            "execution_count": 101,
            "outputs": [
                {
                    "output_type": "execute_result",
                    "execution_count": 101,
                    "data": {
                        "text/plain": "(103, 3)"
                    },
                    "metadata": {}
                }
            ]
        },
        {
            "metadata": {},
            "cell_type": "markdown",
            "source": "******************************************************************************************************************************************************\n1. define a URL\n2. read the html table into data frame\n3. remove the rows of Borough=\"Not assigned\" \n4. reset the index\n5. change the value in Neighborhood=\"Not assigned\" to the values of Borough\n\n[The above code does not change anything as in this table, when the \"Borough\"=\"Not assigned\" is removed, there is no \"Neighborhood\"=\"Not assigned\"]\n[But the code is made and tested to make sure the function is working]\n******************************************************************************************************************************************************"
        },
        {
            "metadata": {},
            "cell_type": "code",
            "source": "",
            "execution_count": null,
            "outputs": []
        }
    ],
    "metadata": {
        "kernelspec": {
            "name": "python3",
            "display_name": "Python 3.7",
            "language": "python"
        },
        "language_info": {
            "name": "python",
            "version": "3.7.9",
            "mimetype": "text/x-python",
            "codemirror_mode": {
                "name": "ipython",
                "version": 3
            },
            "pygments_lexer": "ipython3",
            "nbconvert_exporter": "python",
            "file_extension": ".py"
        }
    },
    "nbformat": 4,
    "nbformat_minor": 1
}